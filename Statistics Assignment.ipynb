{
 "cells": [
  {
   "cell_type": "code",
   "execution_count": null,
   "id": "68669284-6c36-4320-adf7-6b8bfbebfb0c",
   "metadata": {},
   "outputs": [],
   "source": [
    "Load and Explore the Data:"
   ]
  },
  {
   "cell_type": "code",
   "execution_count": 2,
   "id": "23591103-fd89-4edc-a7fb-42387cbd0ec2",
   "metadata": {},
   "outputs": [
    {
     "name": "stdout",
     "output_type": "stream",
     "text": [
      "<class 'pandas.core.frame.DataFrame'>\n",
      "RangeIndex: 1000 entries, 0 to 999\n",
      "Data columns (total 8 columns):\n",
      " #   Column                       Non-Null Count  Dtype \n",
      "---  ------                       --------------  ----- \n",
      " 0   gender                       1000 non-null   object\n",
      " 1   race/ethnicity               1000 non-null   object\n",
      " 2   parental level of education  1000 non-null   object\n",
      " 3   lunch                        1000 non-null   object\n",
      " 4   test preparation course      1000 non-null   object\n",
      " 5   math score                   1000 non-null   int64 \n",
      " 6   reading score                1000 non-null   int64 \n",
      " 7   writing score                1000 non-null   int64 \n",
      "dtypes: int64(3), object(5)\n",
      "memory usage: 62.6+ KB\n"
     ]
    },
    {
     "data": {
      "text/html": [
       "<div>\n",
       "<style scoped>\n",
       "    .dataframe tbody tr th:only-of-type {\n",
       "        vertical-align: middle;\n",
       "    }\n",
       "\n",
       "    .dataframe tbody tr th {\n",
       "        vertical-align: top;\n",
       "    }\n",
       "\n",
       "    .dataframe thead th {\n",
       "        text-align: right;\n",
       "    }\n",
       "</style>\n",
       "<table border=\"1\" class=\"dataframe\">\n",
       "  <thead>\n",
       "    <tr style=\"text-align: right;\">\n",
       "      <th></th>\n",
       "      <th>gender</th>\n",
       "      <th>race/ethnicity</th>\n",
       "      <th>parental level of education</th>\n",
       "      <th>lunch</th>\n",
       "      <th>test preparation course</th>\n",
       "      <th>math score</th>\n",
       "      <th>reading score</th>\n",
       "      <th>writing score</th>\n",
       "    </tr>\n",
       "  </thead>\n",
       "  <tbody>\n",
       "    <tr>\n",
       "      <th>0</th>\n",
       "      <td>female</td>\n",
       "      <td>group C</td>\n",
       "      <td>some high school</td>\n",
       "      <td>free/reduced</td>\n",
       "      <td>none</td>\n",
       "      <td>0</td>\n",
       "      <td>17</td>\n",
       "      <td>10</td>\n",
       "    </tr>\n",
       "    <tr>\n",
       "      <th>1</th>\n",
       "      <td>female</td>\n",
       "      <td>group B</td>\n",
       "      <td>high school</td>\n",
       "      <td>free/reduced</td>\n",
       "      <td>none</td>\n",
       "      <td>8</td>\n",
       "      <td>24</td>\n",
       "      <td>23</td>\n",
       "    </tr>\n",
       "    <tr>\n",
       "      <th>2</th>\n",
       "      <td>female</td>\n",
       "      <td>group B</td>\n",
       "      <td>some high school</td>\n",
       "      <td>free/reduced</td>\n",
       "      <td>none</td>\n",
       "      <td>18</td>\n",
       "      <td>32</td>\n",
       "      <td>28</td>\n",
       "    </tr>\n",
       "    <tr>\n",
       "      <th>3</th>\n",
       "      <td>female</td>\n",
       "      <td>group B</td>\n",
       "      <td>some college</td>\n",
       "      <td>standard</td>\n",
       "      <td>none</td>\n",
       "      <td>11</td>\n",
       "      <td>38</td>\n",
       "      <td>32</td>\n",
       "    </tr>\n",
       "    <tr>\n",
       "      <th>4</th>\n",
       "      <td>female</td>\n",
       "      <td>group C</td>\n",
       "      <td>some college</td>\n",
       "      <td>free/reduced</td>\n",
       "      <td>none</td>\n",
       "      <td>22</td>\n",
       "      <td>39</td>\n",
       "      <td>33</td>\n",
       "    </tr>\n",
       "  </tbody>\n",
       "</table>\n",
       "</div>"
      ],
      "text/plain": [
       "   gender race/ethnicity parental level of education         lunch  \\\n",
       "0  female        group C            some high school  free/reduced   \n",
       "1  female        group B                 high school  free/reduced   \n",
       "2  female        group B            some high school  free/reduced   \n",
       "3  female        group B                some college      standard   \n",
       "4  female        group C                some college  free/reduced   \n",
       "\n",
       "  test preparation course  math score  reading score  writing score  \n",
       "0                    none           0             17             10  \n",
       "1                    none           8             24             23  \n",
       "2                    none          18             32             28  \n",
       "3                    none          11             38             32  \n",
       "4                    none          22             39             33  "
      ]
     },
     "execution_count": 2,
     "metadata": {},
     "output_type": "execute_result"
    }
   ],
   "source": [
    "import pandas as pd\n",
    "students_df = pd.read_csv('/home/nandu/Downloads/Students_Performance.csv')\n",
    "students_df.info()\n",
    "students_df.describe()\n",
    "students_df.head()\n"
   ]
  },
  {
   "cell_type": "code",
   "execution_count": null,
   "id": "b821a3ee-892f-47c3-85c2-51e4f4cac76b",
   "metadata": {},
   "outputs": [],
   "source": [
    "Gender Distribution:\n"
   ]
  },
  {
   "cell_type": "code",
   "execution_count": 3,
   "id": "6b576c85-eabe-464a-a741-c8d38f618320",
   "metadata": {},
   "outputs": [
    {
     "name": "stdout",
     "output_type": "stream",
     "text": [
      "female    518\n",
      "male      482\n",
      "Name: gender, dtype: int64\n"
     ]
    }
   ],
   "source": [
    "# Check how many males and females participated\n",
    "gender_distribution = students_df['gender'].value_counts()\n",
    "print(gender_distribution)\n"
   ]
  },
  {
   "cell_type": "code",
   "execution_count": null,
   "id": "3494b3c7-0482-4ce1-b8d6-6db44202e8cc",
   "metadata": {},
   "outputs": [],
   "source": [
    "Parental Level of Education:"
   ]
  },
  {
   "cell_type": "code",
   "execution_count": 4,
   "id": "a28cee7a-cbf3-4b34-8ebb-99f229a286ad",
   "metadata": {},
   "outputs": [
    {
     "name": "stdout",
     "output_type": "stream",
     "text": [
      "some college          226\n",
      "associate's degree    222\n",
      "high school           196\n",
      "some high school      179\n",
      "bachelor's degree     118\n",
      "master's degree        59\n",
      "Name: parental level of education, dtype: int64\n"
     ]
    },
    {
     "data": {
      "image/png": "[encoded data removed]",
      "text/plain": [
       "<Figure size 640x480 with 1 Axes>"
      ]
     },
     "metadata": {},
     "output_type": "display_data"
    }
   ],
   "source": [
    "\n",
    "parental_education = students_df['parental level of education'].value_counts()\n",
    "print(parental_education)\n",
    "\n",
    "# Visualize parental level of education\n",
    "import seaborn as sns\n",
    "import matplotlib.pyplot as plt\n",
    "\n",
    "sns.countplot(x='parental level of education', data=students_df)\n",
    "plt.xticks(rotation=45, ha='right')\n",
    "plt.show()\n"
   ]
  },
  {
   "cell_type": "code",
   "execution_count": null,
   "id": "1beabbf9-74de-40a0-96ae-38edc536827f",
   "metadata": {},
   "outputs": [],
   "source": [
    "Average Scores by Gender and Test Preparation:"
   ]
  },
  {
   "cell_type": "code",
   "execution_count": 5,
   "id": "58b7fdb3-6d65-4999-bd39-a9a9438f6155",
   "metadata": {},
   "outputs": [
    {
     "name": "stdout",
     "output_type": "stream",
     "text": [
      "                                math score  reading score  writing score\n",
      "gender test preparation course                                          \n",
      "female completed                 67.108696      77.375000      78.793478\n",
      "       none                      61.320359      69.955090      68.982036\n",
      "male   completed                 72.988506      70.793103      70.339080\n",
      "       none                      66.467532      62.581169      59.551948\n"
     ]
    }
   ],
   "source": [
    "\n",
    "avg_scores = students_df.groupby(['gender', 'test preparation course']).mean()\n",
    "print(avg_scores)\n"
   ]
  },
  {
   "cell_type": "code",
   "execution_count": null,
   "id": "db3bc8c3-eace-45cd-ba3e-010ccd37af4e",
   "metadata": {},
   "outputs": [],
   "source": [
    "Scoring Variation by Gender and Test Preparation:"
   ]
  },
  {
   "cell_type": "code",
   "execution_count": 6,
   "id": "d63379c1-15d3-4d5e-b731-7415ce1dc2b9",
   "metadata": {},
   "outputs": [
    {
     "name": "stdout",
     "output_type": "stream",
     "text": [
      "                                math score  reading score  writing score\n",
      "gender test preparation course                                          \n",
      "female completed                 14.428233      12.695493      12.240788\n",
      "       none                      16.510686      14.636981      15.016497\n",
      "male   completed                 14.039164      13.612420      12.887910\n",
      "       none                      14.335746      13.595718      13.468284\n"
     ]
    }
   ],
   "source": [
    "\n",
    "scoring_variation = students_df.groupby(['gender', 'test preparation course']).std()\n",
    "print(scoring_variation)\n"
   ]
  },
  {
   "cell_type": "code",
   "execution_count": null,
   "id": "f08737d3-e870-43ed-a1a3-3b21b40e9f15",
   "metadata": {},
   "outputs": [],
   "source": [
    "Bonus Points for Top 25% in Math:"
   ]
  },
  {
   "cell_type": "code",
   "execution_count": 8,
   "id": "ed803fab-8d5f-408b-aa9b-5c5e4706fe1f",
   "metadata": {},
   "outputs": [],
   "source": [
    "\n",
    "top_25_percent = students_df[students_df['math score'] > students_df['math score'].quantile(0.75)]\n",
    "bonus_points = 5\n",
    "students_df.loc[students_df['math score'] > students_df['math score'].quantile(0.75), 'math score'] += bonus_points\n",
    "\n"
   ]
  },
  {
   "cell_type": "code",
   "execution_count": 11,
   "id": "c724f5b5-d599-43a8-933c-2cf47a0a0e67",
   "metadata": {},
   "outputs": [],
   "source": [
    "# Save the changes to a new CSV file\n",
    "students_df.to_csv('Students_Performance_modified.csv', index=False)\n"
   ]
  },
  {
   "cell_type": "code",
   "execution_count": null,
   "id": "0f2fdc8c-c357-4ff4-8b72-cb84471e3a43",
   "metadata": {},
   "outputs": [],
   "source": []
  }
 ],
 "metadata": {
  "kernelspec": {
   "display_name": "Python 3 (ipykernel)",
   "language": "python",
   "name": "python3"
  },
  "language_info": {
   "codemirror_mode": {
    "name": "ipython",
    "version": 3
   },
   "file_extension": ".py",
   "mimetype": "text/x-python",
   "name": "python",
   "nbconvert_exporter": "python",
   "pygments_lexer": "ipython3",
   "version": "3.8.10"
  }
 },
 "nbformat": 4,
 "nbformat_minor": 5
}
